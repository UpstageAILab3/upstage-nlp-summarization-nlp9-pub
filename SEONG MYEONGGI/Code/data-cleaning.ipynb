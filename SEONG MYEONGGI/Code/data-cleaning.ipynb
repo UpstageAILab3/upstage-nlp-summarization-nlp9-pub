{
 "cells": [
  {
   "cell_type": "code",
   "execution_count": 1,
   "metadata": {},
   "outputs": [],
   "source": [
    "import pandas as pd\n",
    "import re"
   ]
  },
  {
   "cell_type": "code",
   "execution_count": 3,
   "metadata": {},
   "outputs": [],
   "source": [
    "# CSV 파일 읽기\n",
    "train_df = pd.read_csv(\"/home/data/train.csv\")\n",
    "val_df = pd.read_csv(\"/home/data/dev.csv\")"
   ]
  },
  {
   "cell_type": "code",
   "execution_count": null,
   "metadata": {},
   "outputs": [],
   "source": [
    "# 오타수정\n",
    "train_df = train_df.applymap(lambda x: str(x).replace('ㅇ', '으'))\n",
    "train_df = train_df.applymap(lambda x: str(x).replace('ㅏ', '가'))\n",
    "train_df = train_df.applymap(lambda x: str(x).replace('ㅍ', ''))\n",
    "train_df = train_df.applymap(lambda x: str(x).replace('ㄷ', ''))\n",
    "train_df = train_df.applymap(lambda x: str(x).replace('ㅋㅋ', '웃기다'))\n",
    "train_df = train_df.applymap(lambda x: str(x).replace('ㅐ', '캐'))\n",
    "\n",
    "# train_df.to_csv(\"data/train.csv\", index=False)"
   ]
  },
  {
   "cell_type": "code",
   "execution_count": 5,
   "metadata": {},
   "outputs": [],
   "source": [
    "# []로 싸인 부분 전부 제거 + space 공백\n",
    "\n",
    "def remove_brackets(text):\n",
    "    return re.sub(r'\\s?\\[.*?\\]', '', text)\n",
    "\n",
    "\n",
    "for i in range(len(train_df['dialogue'])):\n",
    "    train_df['dialogue'][i] = remove_brackets(train_df['dialogue'][i])\n",
    "    train_df['summary'][i] = remove_brackets(train_df['summary'][i])\n",
    "    \n",
    "for i in range(len(val_df['dialogue'])):\n",
    "    val_df['dialogue'][i] = remove_brackets(val_df['dialogue'][i])\n",
    "    val_df['summary'][i] = remove_brackets(val_df['summary'][i])\n",
    "    \n",
    "\n",
    "# train_df.to_csv(\"/home/data/train_remove.csv\", index=False)\n",
    "# val_df.to_csv(\"/home/data/dev_remove.csv\", index=False)"
   ]
  },
  {
   "cell_type": "code",
   "execution_count": 4,
   "metadata": {},
   "outputs": [],
   "source": [
    "# train_4537에 #Person 2# -> #Person2# 변경\n",
    "# train_1133, train_1030에 summary부분 사람2# -> #Person2# 변경\n",
    "# train_1125, train_1142에 dialogue부분 사람1# -> #Person1# 변경\n",
    "# train_1199에 summary부분 사람1# -> #Person1# 변경\n",
    "\n",
    "train_df['dialogue'][4537] = train_df['dialogue'][4537].replace('#Person 2#', '#Person2#')\n",
    "train_df['summary'][1133] = train_df['summary'][1133].replace('사람2#', '#Person2#')\n",
    "train_df['summary'][1030] = train_df['summary'][1030].replace('사람2#', '#Person2#')\n",
    "train_df['dialogue'][1125] = train_df['dialogue'][1125].replace('사람1#', '#Person1#')\n",
    "train_df['dialogue'][1142] = train_df['dialogue'][1142].replace('사람1#', '#Person1#')\n",
    "train_df['summary'][1199] = train_df['summary'][1199].replace('사람1#', '#Person1#')\n",
    "\n",
    "# train_df.to_csv(\"/home/data/train.csv\", index=False)"
   ]
  },
  {
   "cell_type": "code",
   "execution_count": 5,
   "metadata": {},
   "outputs": [],
   "source": [
    "# train_3804에 topic을 '미국의 학교'로 변경\n",
    "# train_7595에 topic을 '12살인 동생이 있다'로 변경\n",
    "\n",
    "train_df['topic'][3804] = '미국의 학교'\n",
    "train_df['topic'][7595] = '12살인 동생이 있다'\n",
    "\n",
    "# train_df.to_csv(\"/home/train.csv\", index=False)"
   ]
  },
  {
   "cell_type": "code",
   "execution_count": null,
   "metadata": {},
   "outputs": [],
   "source": []
  }
 ],
 "metadata": {
  "kernelspec": {
   "display_name": "base",
   "language": "python",
   "name": "python3"
  },
  "language_info": {
   "codemirror_mode": {
    "name": "ipython",
    "version": 3
   },
   "file_extension": ".py",
   "mimetype": "text/x-python",
   "name": "python",
   "nbconvert_exporter": "python",
   "pygments_lexer": "ipython3",
   "version": "3.10.13"
  }
 },
 "nbformat": 4,
 "nbformat_minor": 2
}
